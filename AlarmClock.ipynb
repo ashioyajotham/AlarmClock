{
 "cells": [
  {
   "cell_type": "code",
   "execution_count": null,
   "id": "73f0588d",
   "metadata": {},
   "outputs": [
    {
     "name": "stdout",
     "output_type": "stream",
     "text": [
      "Set alarm: HH:MM:SS\n",
      " 09:09:09\n",
      "Setting up alarm...\n"
     ]
    }
   ],
   "source": [
    "# Alarm clock\n",
    "from datetime import datetime\n",
    "from playsound import playsound\n",
    "alarm_time = input(\"Set alarm: HH:MM:SS\\n \")\n",
    "alarm_hour = alarm_time[0:2]\n",
    "alarm_min = alarm_time[3:5]\n",
    "alarm_seconds = alarm_time[6:8]\n",
    "alarm_period = alarm_time[9:11].upper()\n",
    "print(\"Setting up alarm...\")\n",
    "while True:\n",
    "    now = datetime.now()\n",
    "    current_hour = now.strftime(\"%I\")\n",
    "    current_min = now.strftime(\"%M\")\n",
    "    current_seconds = now.strftime(\"%S\")\n",
    "    current_period = now.strftime(\"%p\")\n",
    "    if(alarm_period==current_period):\n",
    "        if(alarm_hour==current_hour):\n",
    "            if(alarm_min==current_min):\n",
    "                if(alarm_seconds==current_seconds):\n",
    "                    print(\"Wake up!\")\n",
    "                    playsound(\"audio.mp3\")\n",
    "                    break"
   ]
  },
  {
   "cell_type": "code",
   "execution_count": null,
   "id": "e40652af",
   "metadata": {},
   "outputs": [],
   "source": []
  }
 ],
 "metadata": {
  "kernelspec": {
   "display_name": "Python 3",
   "language": "python",
   "name": "python3"
  },
  "language_info": {
   "codemirror_mode": {
    "name": "ipython",
    "version": 3
   },
   "file_extension": ".py",
   "mimetype": "text/x-python",
   "name": "python",
   "nbconvert_exporter": "python",
   "pygments_lexer": "ipython3",
   "version": "3.9.7"
  }
 },
 "nbformat": 4,
 "nbformat_minor": 5
}
